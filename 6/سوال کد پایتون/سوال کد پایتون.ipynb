{
 "cells": [
  {
   "cell_type": "code",
   "execution_count": 45,
   "metadata": {},
   "outputs": [
    {
     "name": "stdout",
     "output_type": "stream",
     "text": [
      "10\n"
     ]
    }
   ],
   "source": [
    "import ast\n",
    "\n",
    "def solve(file_path):\n",
    "    with open(file_path, \"r\") as file:\n",
    "        lines = file.readlines()\n",
    "\n",
    "    command_lines = 0\n",
    "\n",
    "    for line in lines:\n",
    "        line = line.strip()\n",
    "        if line and not line.startswith(\"#\"):\n",
    "            try:\n",
    "                ast.parse(line)\n",
    "                if not line.startswith('\"#'):\n",
    "                    command_lines += 1\n",
    "            except SyntaxError:\n",
    "                command_lines += 1\n",
    "                pass\n",
    "\n",
    "    return command_lines\n",
    "\n",
    "file_path = \"in.py\"\n",
    "print(solve(file_path))"
   ]
  }
 ],
 "metadata": {
  "kernelspec": {
   "display_name": "Python 3",
   "language": "python",
   "name": "python3"
  },
  "language_info": {
   "codemirror_mode": {
    "name": "ipython",
    "version": 3
   },
   "file_extension": ".py",
   "mimetype": "text/x-python",
   "name": "python",
   "nbconvert_exporter": "python",
   "pygments_lexer": "ipython3",
   "version": "3.11.3"
  },
  "orig_nbformat": 4
 },
 "nbformat": 4,
 "nbformat_minor": 2
}
