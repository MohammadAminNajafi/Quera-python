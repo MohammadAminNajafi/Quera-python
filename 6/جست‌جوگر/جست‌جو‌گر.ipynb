{
 "cells": [
  {
   "cell_type": "code",
   "execution_count": 8,
   "metadata": {},
   "outputs": [
    {
     "name": "stdout",
     "output_type": "stream",
     "text": [
      "{'C:\\\\Users\\\\98935\\\\Pictures\\\\Screenshots': 1}\n"
     ]
    }
   ],
   "source": [
    "import os\n",
    "\n",
    "def explore(ttype, address):\n",
    "    result = {}\n",
    "    for root, dirs, files in os.walk(address):\n",
    "        count = 0\n",
    "        for file in files:\n",
    "            if file.lower().endswith(\".\" + ttype.lower()):\n",
    "                count = 1\n",
    "                break\n",
    "\n",
    "        if count > 0:\n",
    "            result[root] = count\n",
    "\n",
    "    return result\n",
    "\n",
    "result = explore(\"png\", r\"C:\\Users\\98935\\Pictures\\Screenshots\")\n",
    "print(result)\n"
   ]
  }
 ],
 "metadata": {
  "kernelspec": {
   "display_name": "Python 3",
   "language": "python",
   "name": "python3"
  },
  "language_info": {
   "codemirror_mode": {
    "name": "ipython",
    "version": 3
   },
   "file_extension": ".py",
   "mimetype": "text/x-python",
   "name": "python",
   "nbconvert_exporter": "python",
   "pygments_lexer": "ipython3",
   "version": "3.11.3"
  },
  "orig_nbformat": 4
 },
 "nbformat": 4,
 "nbformat_minor": 2
}
