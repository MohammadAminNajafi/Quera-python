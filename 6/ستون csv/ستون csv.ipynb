{
 "cells": [
  {
   "cell_type": "code",
   "execution_count": 3,
   "metadata": {},
   "outputs": [],
   "source": [
    "import csv\n",
    "def process(x):\n",
    "    with open('test1_sample.csv', 'r') as csv_file:\n",
    "        reader = csv.reader(csv_file)\n",
    "        rows = list(reader)\n",
    "        \n",
    "        \n",
    "        for row in rows:\n",
    "            row_sum = sum(map(int, row))\n",
    "            row.append(row_sum)     \n",
    "    with open('ans.csv', 'w', newline='') as csv_file:\n",
    "        writer = csv.writer(csv_file)\n",
    "        writer.writerows(rows)\n",
    "\n",
    "process(\"test1_sample.csv\")"
   ]
  }
 ],
 "metadata": {
  "kernelspec": {
   "display_name": "Python 3",
   "language": "python",
   "name": "python3"
  },
  "language_info": {
   "codemirror_mode": {
    "name": "ipython",
    "version": 3
   },
   "file_extension": ".py",
   "mimetype": "text/x-python",
   "name": "python",
   "nbconvert_exporter": "python",
   "pygments_lexer": "ipython3",
   "version": "3.11.3"
  },
  "orig_nbformat": 4
 },
 "nbformat": 4,
 "nbformat_minor": 2
}
