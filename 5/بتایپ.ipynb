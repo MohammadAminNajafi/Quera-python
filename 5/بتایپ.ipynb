{
 "cells": [
  {
   "cell_type": "code",
   "execution_count": 8,
   "metadata": {
    "collapsed": true,
    "ExecuteTime": {
     "end_time": "2023-06-23T11:24:13.397541500Z",
     "start_time": "2023-06-23T11:24:02.794739300Z"
    }
   },
   "outputs": [
    {
     "name": "stdout",
     "output_type": "stream",
     "text": [
      "testtwoowo\n"
     ]
    }
   ],
   "source": [
    "def word():\n",
    "    _input = input()\n",
    "    if 1 <= len(_input) <= 10000:\n",
    "        list_input = _input.split('=')\n",
    "        str_list = ''.join(list_input)\n",
    "        print(str_list)\n",
    "word()"
   ]
  }
 ],
 "metadata": {
  "kernelspec": {
   "display_name": "Python 3",
   "language": "python",
   "name": "python3"
  },
  "language_info": {
   "codemirror_mode": {
    "name": "ipython",
    "version": 2
   },
   "file_extension": ".py",
   "mimetype": "text/x-python",
   "name": "python",
   "nbconvert_exporter": "python",
   "pygments_lexer": "ipython2",
   "version": "2.7.6"
  }
 },
 "nbformat": 4,
 "nbformat_minor": 0
}
