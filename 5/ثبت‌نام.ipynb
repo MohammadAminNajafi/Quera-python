{
 "cells": [
  {
   "cell_type": "code",
   "execution_count": null,
   "metadata": {},
   "outputs": [],
   "source": [
    "import re \n"
   ]
  },
  {
   "cell_type": "code",
   "execution_count": 15,
   "metadata": {},
   "outputs": [
    {
     "name": "stdout",
     "output_type": "stream",
     "text": [
      "['mmdreza']\n"
     ]
    }
   ],
   "source": [
    "def check_registration_rules(**kwargs):\n",
    "    list_name = []\n",
    "    for key, value in kwargs.items():\n",
    "        if len(value) >= 6 and len(key) >= 4 and key != 'quera' and key != 'codecup' and not value.isdigit():\n",
    "            list_name.append(key)\n",
    "    print(list_name)\n",
    "check_registration_rules(quera='qwerty80', mmdreza='monday80', ali=\"aliali@\", mammad=\"salam\")\n",
    "\n"
   ]
  }
 ],
 "metadata": {
  "kernelspec": {
   "display_name": "Python 3",
   "language": "python",
   "name": "python3"
  },
  "language_info": {
   "codemirror_mode": {
    "name": "ipython",
    "version": 3
   },
   "file_extension": ".py",
   "mimetype": "text/x-python",
   "name": "python",
   "nbconvert_exporter": "python",
   "pygments_lexer": "ipython3",
   "version": "3.11.3"
  },
  "orig_nbformat": 4
 },
 "nbformat": 4,
 "nbformat_minor": 2
}
