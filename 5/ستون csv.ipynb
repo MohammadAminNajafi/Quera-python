{
 "cells": [
  {
   "cell_type": "code",
   "execution_count": 3,
   "metadata": {},
   "outputs": [
    {
     "ename": "FileNotFoundError",
     "evalue": "[Errno 2] No such file or directory: 'input.csv'",
     "output_type": "error",
     "traceback": [
      "\u001b[1;31m---------------------------------------------------------------------------\u001b[0m",
      "\u001b[1;31mFileNotFoundError\u001b[0m                         Traceback (most recent call last)",
      "Cell \u001b[1;32mIn[3], line 21\u001b[0m\n\u001b[0;32m     18\u001b[0m input_file \u001b[39m=\u001b[39m \u001b[39m'\u001b[39m\u001b[39minput.csv\u001b[39m\u001b[39m'\u001b[39m  \u001b[39m# فایل ورودی\u001b[39;00m\n\u001b[0;32m     19\u001b[0m output_file \u001b[39m=\u001b[39m \u001b[39m'\u001b[39m\u001b[39moutput.csv\u001b[39m\u001b[39m'\u001b[39m  \u001b[39m# فایل خروجی\u001b[39;00m\n\u001b[1;32m---> 21\u001b[0m add_row_sums(input_file, output_file)\n",
      "Cell \u001b[1;32mIn[3], line 4\u001b[0m, in \u001b[0;36madd_row_sums\u001b[1;34m(input_file, output_file)\u001b[0m\n\u001b[0;32m      3\u001b[0m \u001b[39mdef\u001b[39;00m \u001b[39madd_row_sums\u001b[39m(input_file, output_file):\n\u001b[1;32m----> 4\u001b[0m     \u001b[39mwith\u001b[39;00m \u001b[39mopen\u001b[39;49m(input_file, \u001b[39m'\u001b[39;49m\u001b[39mr\u001b[39;49m\u001b[39m'\u001b[39;49m) \u001b[39mas\u001b[39;00m csv_file:\n\u001b[0;32m      5\u001b[0m         reader \u001b[39m=\u001b[39m csv\u001b[39m.\u001b[39mreader(csv_file)\n\u001b[0;32m      6\u001b[0m         rows \u001b[39m=\u001b[39m \u001b[39mlist\u001b[39m(reader)\n",
      "File \u001b[1;32mc:\\Users\\98935\\AppData\\Local\\Programs\\Python\\Python311\\Lib\\site-packages\\IPython\\core\\interactiveshell.py:284\u001b[0m, in \u001b[0;36m_modified_open\u001b[1;34m(file, *args, **kwargs)\u001b[0m\n\u001b[0;32m    277\u001b[0m \u001b[39mif\u001b[39;00m file \u001b[39min\u001b[39;00m {\u001b[39m0\u001b[39m, \u001b[39m1\u001b[39m, \u001b[39m2\u001b[39m}:\n\u001b[0;32m    278\u001b[0m     \u001b[39mraise\u001b[39;00m \u001b[39mValueError\u001b[39;00m(\n\u001b[0;32m    279\u001b[0m         \u001b[39mf\u001b[39m\u001b[39m\"\u001b[39m\u001b[39mIPython won\u001b[39m\u001b[39m'\u001b[39m\u001b[39mt let you open fd=\u001b[39m\u001b[39m{\u001b[39;00mfile\u001b[39m}\u001b[39;00m\u001b[39m by default \u001b[39m\u001b[39m\"\u001b[39m\n\u001b[0;32m    280\u001b[0m         \u001b[39m\"\u001b[39m\u001b[39mas it is likely to crash IPython. If you know what you are doing, \u001b[39m\u001b[39m\"\u001b[39m\n\u001b[0;32m    281\u001b[0m         \u001b[39m\"\u001b[39m\u001b[39myou can use builtins\u001b[39m\u001b[39m'\u001b[39m\u001b[39m open.\u001b[39m\u001b[39m\"\u001b[39m\n\u001b[0;32m    282\u001b[0m     )\n\u001b[1;32m--> 284\u001b[0m \u001b[39mreturn\u001b[39;00m io_open(file, \u001b[39m*\u001b[39;49margs, \u001b[39m*\u001b[39;49m\u001b[39m*\u001b[39;49mkwargs)\n",
      "\u001b[1;31mFileNotFoundError\u001b[0m: [Errno 2] No such file or directory: 'input.csv'"
     ]
    }
   ],
   "source": [
    "import csv\n",
    "\n",
    "def add_row_sums(input_file, output_file):\n",
    "    with open(input_file, 'r') as csv_file:\n",
    "        reader = csv.reader(csv_file)\n",
    "        rows = list(reader)\n",
    "        \n",
    "        # Calculate row sums\n",
    "        for row in rows:\n",
    "            row_sum = sum(map(int, row))  # Convert elements to integers and calculate sum\n",
    "            row.append(row_sum)  # Append the sum to the row\n",
    "        \n",
    "    with open(output_file, 'w', newline='') as csv_output:\n",
    "        writer = csv.writer(csv_output)\n",
    "        writer.writerows(rows)\n",
    "\n",
    "# مثال استفاده\n",
    "input_file = 'input.csv'  # فایل ورودی\n",
    "output_file = 'output.csv'  # فایل خروجی\n",
    "\n",
    "add_row_sums(input_file, output_file)\n"
   ]
  }
 ],
 "metadata": {
  "kernelspec": {
   "display_name": "Python 3",
   "language": "python",
   "name": "python3"
  },
  "language_info": {
   "codemirror_mode": {
    "name": "ipython",
    "version": 3
   },
   "file_extension": ".py",
   "mimetype": "text/x-python",
   "name": "python",
   "nbconvert_exporter": "python",
   "pygments_lexer": "ipython3",
   "version": "3.11.3"
  },
  "orig_nbformat": 4
 },
 "nbformat": 4,
 "nbformat_minor": 2
}
