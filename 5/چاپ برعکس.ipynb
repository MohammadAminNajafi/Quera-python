{
 "cells": [
  {
   "cell_type": "code",
   "execution_count": 51,
   "metadata": {
    "collapsed": true,
    "ExecuteTime": {
     "end_time": "2023-06-23T10:48:08.375888400Z",
     "start_time": "2023-06-23T10:47:57.761807500Z"
    }
   },
   "outputs": [
    {
     "name": "stdout",
     "output_type": "stream",
     "text": [
      "9\n",
      "4\n",
      "7\n",
      "4\n",
      "3\n"
     ]
    }
   ],
   "source": [
    "def x():\n",
    "    numbers_1 = []\n",
    "    while True:\n",
    "        _input = int(input('please enter a number: '))\n",
    "        if _input == 0:\n",
    "            break\n",
    "        if _input < 1000:\n",
    "            numbers_1.append(_input)\n",
    "    for value in numbers_1[::-1]:\n",
    "        print(value)\n",
    "\n",
    "x()\n",
    "\n"
   ]
  },
  {
   "cell_type": "code",
   "execution_count": null,
   "outputs": [],
   "source": [],
   "metadata": {
    "collapsed": false
   }
  }
 ],
 "metadata": {
  "kernelspec": {
   "display_name": "Python 3",
   "language": "python",
   "name": "python3"
  },
  "language_info": {
   "codemirror_mode": {
    "name": "ipython",
    "version": 2
   },
   "file_extension": ".py",
   "mimetype": "text/x-python",
   "name": "python",
   "nbconvert_exporter": "python",
   "pygments_lexer": "ipython2",
   "version": "2.7.6"
  }
 },
 "nbformat": 4,
 "nbformat_minor": 0
}
