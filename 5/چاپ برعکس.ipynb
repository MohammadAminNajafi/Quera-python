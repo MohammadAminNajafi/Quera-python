{
 "cells": [
  {
   "cell_type": "code",
   "execution_count": 1,
   "metadata": {
    "collapsed": true
   },
   "outputs": [],
   "source": [
    "def x():\n",
    "    numbers_1 = []\n",
    "    while True:\n",
    "        _input = int(input('please enter a number: '))\n",
    "        if _input == 0:\n",
    "            break\n",
    "        if _input < 1000:\n",
    "            numbers_1.append(_input)\n",
    "    for value in numbers_1[::-1]:\n",
    "        print(value)\n",
    "\n",
    "x()"
   ]
  }
 ],
 "metadata": {
  "kernelspec": {
   "display_name": "Python 3",
   "language": "python",
   "name": "python3"
  },
  "language_info": {
   "codemirror_mode": {
    "name": "ipython",
    "version": 3
   },
   "file_extension": ".py",
   "mimetype": "text/x-python",
   "name": "python",
   "nbconvert_exporter": "python",
   "pygments_lexer": "ipython3",
   "version": "3.11.3"
  }
 },
 "nbformat": 4,
 "nbformat_minor": 0
}
