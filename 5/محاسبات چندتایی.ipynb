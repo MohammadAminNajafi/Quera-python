{
 "cells": [
  {
   "cell_type": "code",
   "execution_count": 20,
   "metadata": {},
   "outputs": [
    {
     "name": "stdout",
     "output_type": "stream",
     "text": [
      "(20.25, 24.5, 30)\n"
     ]
    }
   ],
   "source": [
    "import statistics\n",
    "def calc(a: list) -> tuple:\n",
    "    average = 0\n",
    "    median = 0\n",
    "    max = 0\n",
    "    for value in a:\n",
    "        if value > max:\n",
    "            max = value\n",
    "    average = statistics.mean(a) \n",
    "    median = statistics.median(a)\n",
    "    my_tuple = (average, median, max)\n",
    "    return my_tuple\n",
    "\n",
    "print(calc([2, 20, 30, 29]))\n"
   ]
  }
 ],
 "metadata": {
  "kernelspec": {
   "display_name": "Python 3",
   "language": "python",
   "name": "python3"
  },
  "language_info": {
   "codemirror_mode": {
    "name": "ipython",
    "version": 3
   },
   "file_extension": ".py",
   "mimetype": "text/x-python",
   "name": "python",
   "nbconvert_exporter": "python",
   "pygments_lexer": "ipython3",
   "version": "3.11.3"
  },
  "orig_nbformat": 4
 },
 "nbformat": 4,
 "nbformat_minor": 2
}
